{
 "cells": [
  {
   "cell_type": "markdown",
   "id": "internal-mount",
   "metadata": {},
   "source": [
    "# US CARS ANALYSIS"
   ]
  },
  {
   "cell_type": "code",
   "execution_count": 1,
   "id": "stable-customs",
   "metadata": {},
   "outputs": [],
   "source": [
    "import numpy as np\n",
    "import pandas as pd"
   ]
  },
  {
   "cell_type": "code",
   "execution_count": 2,
   "id": "revolutionary-breakdown",
   "metadata": {},
   "outputs": [],
   "source": [
    "df = pd.read_csv(r\"C:\\Users\\Asus\\Desktop\\US Cars Manufacturing Analysis\\USA_cars_datasets.csv\")"
   ]
  },
  {
   "cell_type": "code",
   "execution_count": 3,
   "id": "welcome-cutting",
   "metadata": {},
   "outputs": [
    {
     "data": {
      "text/html": [
       "<div>\n",
       "<style scoped>\n",
       "    .dataframe tbody tr th:only-of-type {\n",
       "        vertical-align: middle;\n",
       "    }\n",
       "\n",
       "    .dataframe tbody tr th {\n",
       "        vertical-align: top;\n",
       "    }\n",
       "\n",
       "    .dataframe thead th {\n",
       "        text-align: right;\n",
       "    }\n",
       "</style>\n",
       "<table border=\"1\" class=\"dataframe\">\n",
       "  <thead>\n",
       "    <tr style=\"text-align: right;\">\n",
       "      <th></th>\n",
       "      <th>Unnamed: 0</th>\n",
       "      <th>price</th>\n",
       "      <th>brand</th>\n",
       "      <th>model</th>\n",
       "      <th>year</th>\n",
       "      <th>title_status</th>\n",
       "      <th>mileage</th>\n",
       "      <th>color</th>\n",
       "      <th>vin</th>\n",
       "      <th>lot</th>\n",
       "      <th>state</th>\n",
       "      <th>country</th>\n",
       "      <th>condition</th>\n",
       "    </tr>\n",
       "  </thead>\n",
       "  <tbody>\n",
       "    <tr>\n",
       "      <th>0</th>\n",
       "      <td>0</td>\n",
       "      <td>6300</td>\n",
       "      <td>toyota</td>\n",
       "      <td>cruiser</td>\n",
       "      <td>2008</td>\n",
       "      <td>clean vehicle</td>\n",
       "      <td>274117.0</td>\n",
       "      <td>black</td>\n",
       "      <td>jtezu11f88k007763</td>\n",
       "      <td>159348797</td>\n",
       "      <td>new jersey</td>\n",
       "      <td>usa</td>\n",
       "      <td>10 days left</td>\n",
       "    </tr>\n",
       "    <tr>\n",
       "      <th>1</th>\n",
       "      <td>1</td>\n",
       "      <td>2899</td>\n",
       "      <td>ford</td>\n",
       "      <td>se</td>\n",
       "      <td>2011</td>\n",
       "      <td>clean vehicle</td>\n",
       "      <td>190552.0</td>\n",
       "      <td>silver</td>\n",
       "      <td>2fmdk3gc4bbb02217</td>\n",
       "      <td>166951262</td>\n",
       "      <td>tennessee</td>\n",
       "      <td>usa</td>\n",
       "      <td>6 days left</td>\n",
       "    </tr>\n",
       "    <tr>\n",
       "      <th>2</th>\n",
       "      <td>2</td>\n",
       "      <td>5350</td>\n",
       "      <td>dodge</td>\n",
       "      <td>mpv</td>\n",
       "      <td>2018</td>\n",
       "      <td>clean vehicle</td>\n",
       "      <td>39590.0</td>\n",
       "      <td>silver</td>\n",
       "      <td>3c4pdcgg5jt346413</td>\n",
       "      <td>167655728</td>\n",
       "      <td>georgia</td>\n",
       "      <td>usa</td>\n",
       "      <td>2 days left</td>\n",
       "    </tr>\n",
       "    <tr>\n",
       "      <th>3</th>\n",
       "      <td>3</td>\n",
       "      <td>25000</td>\n",
       "      <td>ford</td>\n",
       "      <td>door</td>\n",
       "      <td>2014</td>\n",
       "      <td>clean vehicle</td>\n",
       "      <td>64146.0</td>\n",
       "      <td>blue</td>\n",
       "      <td>1ftfw1et4efc23745</td>\n",
       "      <td>167753855</td>\n",
       "      <td>virginia</td>\n",
       "      <td>usa</td>\n",
       "      <td>22 hours left</td>\n",
       "    </tr>\n",
       "    <tr>\n",
       "      <th>4</th>\n",
       "      <td>4</td>\n",
       "      <td>27700</td>\n",
       "      <td>chevrolet</td>\n",
       "      <td>1500</td>\n",
       "      <td>2018</td>\n",
       "      <td>clean vehicle</td>\n",
       "      <td>6654.0</td>\n",
       "      <td>red</td>\n",
       "      <td>3gcpcrec2jg473991</td>\n",
       "      <td>167763266</td>\n",
       "      <td>florida</td>\n",
       "      <td>usa</td>\n",
       "      <td>22 hours left</td>\n",
       "    </tr>\n",
       "    <tr>\n",
       "      <th>...</th>\n",
       "      <td>...</td>\n",
       "      <td>...</td>\n",
       "      <td>...</td>\n",
       "      <td>...</td>\n",
       "      <td>...</td>\n",
       "      <td>...</td>\n",
       "      <td>...</td>\n",
       "      <td>...</td>\n",
       "      <td>...</td>\n",
       "      <td>...</td>\n",
       "      <td>...</td>\n",
       "      <td>...</td>\n",
       "      <td>...</td>\n",
       "    </tr>\n",
       "    <tr>\n",
       "      <th>2494</th>\n",
       "      <td>2494</td>\n",
       "      <td>7800</td>\n",
       "      <td>nissan</td>\n",
       "      <td>versa</td>\n",
       "      <td>2019</td>\n",
       "      <td>clean vehicle</td>\n",
       "      <td>23609.0</td>\n",
       "      <td>red</td>\n",
       "      <td>3n1cn7ap9kl880319</td>\n",
       "      <td>167722715</td>\n",
       "      <td>california</td>\n",
       "      <td>usa</td>\n",
       "      <td>1 days left</td>\n",
       "    </tr>\n",
       "    <tr>\n",
       "      <th>2495</th>\n",
       "      <td>2495</td>\n",
       "      <td>9200</td>\n",
       "      <td>nissan</td>\n",
       "      <td>versa</td>\n",
       "      <td>2018</td>\n",
       "      <td>clean vehicle</td>\n",
       "      <td>34553.0</td>\n",
       "      <td>silver</td>\n",
       "      <td>3n1cn7ap5jl884088</td>\n",
       "      <td>167762225</td>\n",
       "      <td>florida</td>\n",
       "      <td>usa</td>\n",
       "      <td>21 hours left</td>\n",
       "    </tr>\n",
       "    <tr>\n",
       "      <th>2496</th>\n",
       "      <td>2496</td>\n",
       "      <td>9200</td>\n",
       "      <td>nissan</td>\n",
       "      <td>versa</td>\n",
       "      <td>2018</td>\n",
       "      <td>clean vehicle</td>\n",
       "      <td>31594.0</td>\n",
       "      <td>silver</td>\n",
       "      <td>3n1cn7ap9jl884191</td>\n",
       "      <td>167762226</td>\n",
       "      <td>florida</td>\n",
       "      <td>usa</td>\n",
       "      <td>21 hours left</td>\n",
       "    </tr>\n",
       "    <tr>\n",
       "      <th>2497</th>\n",
       "      <td>2497</td>\n",
       "      <td>9200</td>\n",
       "      <td>nissan</td>\n",
       "      <td>versa</td>\n",
       "      <td>2018</td>\n",
       "      <td>clean vehicle</td>\n",
       "      <td>32557.0</td>\n",
       "      <td>black</td>\n",
       "      <td>3n1cn7ap3jl883263</td>\n",
       "      <td>167762227</td>\n",
       "      <td>florida</td>\n",
       "      <td>usa</td>\n",
       "      <td>2 days left</td>\n",
       "    </tr>\n",
       "    <tr>\n",
       "      <th>2498</th>\n",
       "      <td>2498</td>\n",
       "      <td>9200</td>\n",
       "      <td>nissan</td>\n",
       "      <td>versa</td>\n",
       "      <td>2018</td>\n",
       "      <td>clean vehicle</td>\n",
       "      <td>31371.0</td>\n",
       "      <td>silver</td>\n",
       "      <td>3n1cn7ap4jl884311</td>\n",
       "      <td>167762228</td>\n",
       "      <td>florida</td>\n",
       "      <td>usa</td>\n",
       "      <td>21 hours left</td>\n",
       "    </tr>\n",
       "  </tbody>\n",
       "</table>\n",
       "<p>2499 rows × 13 columns</p>\n",
       "</div>"
      ],
      "text/plain": [
       "      Unnamed: 0  price      brand    model  year   title_status   mileage  \\\n",
       "0              0   6300     toyota  cruiser  2008  clean vehicle  274117.0   \n",
       "1              1   2899       ford       se  2011  clean vehicle  190552.0   \n",
       "2              2   5350      dodge      mpv  2018  clean vehicle   39590.0   \n",
       "3              3  25000       ford     door  2014  clean vehicle   64146.0   \n",
       "4              4  27700  chevrolet     1500  2018  clean vehicle    6654.0   \n",
       "...          ...    ...        ...      ...   ...            ...       ...   \n",
       "2494        2494   7800     nissan    versa  2019  clean vehicle   23609.0   \n",
       "2495        2495   9200     nissan    versa  2018  clean vehicle   34553.0   \n",
       "2496        2496   9200     nissan    versa  2018  clean vehicle   31594.0   \n",
       "2497        2497   9200     nissan    versa  2018  clean vehicle   32557.0   \n",
       "2498        2498   9200     nissan    versa  2018  clean vehicle   31371.0   \n",
       "\n",
       "       color                  vin        lot       state country  \\\n",
       "0      black    jtezu11f88k007763  159348797  new jersey     usa   \n",
       "1     silver    2fmdk3gc4bbb02217  166951262   tennessee     usa   \n",
       "2     silver    3c4pdcgg5jt346413  167655728     georgia     usa   \n",
       "3       blue    1ftfw1et4efc23745  167753855    virginia     usa   \n",
       "4        red    3gcpcrec2jg473991  167763266     florida     usa   \n",
       "...      ...                  ...        ...         ...     ...   \n",
       "2494     red    3n1cn7ap9kl880319  167722715  california     usa   \n",
       "2495  silver    3n1cn7ap5jl884088  167762225     florida     usa   \n",
       "2496  silver    3n1cn7ap9jl884191  167762226     florida     usa   \n",
       "2497   black    3n1cn7ap3jl883263  167762227     florida     usa   \n",
       "2498  silver    3n1cn7ap4jl884311  167762228     florida     usa   \n",
       "\n",
       "          condition  \n",
       "0      10 days left  \n",
       "1       6 days left  \n",
       "2       2 days left  \n",
       "3     22 hours left  \n",
       "4     22 hours left  \n",
       "...             ...  \n",
       "2494    1 days left  \n",
       "2495  21 hours left  \n",
       "2496  21 hours left  \n",
       "2497    2 days left  \n",
       "2498  21 hours left  \n",
       "\n",
       "[2499 rows x 13 columns]"
      ]
     },
     "execution_count": 3,
     "metadata": {},
     "output_type": "execute_result"
    }
   ],
   "source": [
    "df"
   ]
  },
  {
   "cell_type": "code",
   "execution_count": 4,
   "id": "instrumental-berlin",
   "metadata": {},
   "outputs": [
    {
     "data": {
      "text/plain": [
       "pandas.core.frame.DataFrame"
      ]
     },
     "execution_count": 4,
     "metadata": {},
     "output_type": "execute_result"
    }
   ],
   "source": [
    "type(df)"
   ]
  },
  {
   "cell_type": "code",
   "execution_count": 5,
   "id": "substantial-ability",
   "metadata": {},
   "outputs": [
    {
     "data": {
      "text/html": [
       "<div>\n",
       "<style scoped>\n",
       "    .dataframe tbody tr th:only-of-type {\n",
       "        vertical-align: middle;\n",
       "    }\n",
       "\n",
       "    .dataframe tbody tr th {\n",
       "        vertical-align: top;\n",
       "    }\n",
       "\n",
       "    .dataframe thead th {\n",
       "        text-align: right;\n",
       "    }\n",
       "</style>\n",
       "<table border=\"1\" class=\"dataframe\">\n",
       "  <thead>\n",
       "    <tr style=\"text-align: right;\">\n",
       "      <th></th>\n",
       "      <th>Unnamed: 0</th>\n",
       "      <th>price</th>\n",
       "      <th>brand</th>\n",
       "      <th>model</th>\n",
       "      <th>year</th>\n",
       "      <th>title_status</th>\n",
       "      <th>mileage</th>\n",
       "      <th>color</th>\n",
       "      <th>vin</th>\n",
       "      <th>lot</th>\n",
       "      <th>state</th>\n",
       "      <th>country</th>\n",
       "      <th>condition</th>\n",
       "    </tr>\n",
       "  </thead>\n",
       "  <tbody>\n",
       "    <tr>\n",
       "      <th>0</th>\n",
       "      <td>0</td>\n",
       "      <td>6300</td>\n",
       "      <td>toyota</td>\n",
       "      <td>cruiser</td>\n",
       "      <td>2008</td>\n",
       "      <td>clean vehicle</td>\n",
       "      <td>274117.0</td>\n",
       "      <td>black</td>\n",
       "      <td>jtezu11f88k007763</td>\n",
       "      <td>159348797</td>\n",
       "      <td>new jersey</td>\n",
       "      <td>usa</td>\n",
       "      <td>10 days left</td>\n",
       "    </tr>\n",
       "    <tr>\n",
       "      <th>1</th>\n",
       "      <td>1</td>\n",
       "      <td>2899</td>\n",
       "      <td>ford</td>\n",
       "      <td>se</td>\n",
       "      <td>2011</td>\n",
       "      <td>clean vehicle</td>\n",
       "      <td>190552.0</td>\n",
       "      <td>silver</td>\n",
       "      <td>2fmdk3gc4bbb02217</td>\n",
       "      <td>166951262</td>\n",
       "      <td>tennessee</td>\n",
       "      <td>usa</td>\n",
       "      <td>6 days left</td>\n",
       "    </tr>\n",
       "    <tr>\n",
       "      <th>2</th>\n",
       "      <td>2</td>\n",
       "      <td>5350</td>\n",
       "      <td>dodge</td>\n",
       "      <td>mpv</td>\n",
       "      <td>2018</td>\n",
       "      <td>clean vehicle</td>\n",
       "      <td>39590.0</td>\n",
       "      <td>silver</td>\n",
       "      <td>3c4pdcgg5jt346413</td>\n",
       "      <td>167655728</td>\n",
       "      <td>georgia</td>\n",
       "      <td>usa</td>\n",
       "      <td>2 days left</td>\n",
       "    </tr>\n",
       "    <tr>\n",
       "      <th>3</th>\n",
       "      <td>3</td>\n",
       "      <td>25000</td>\n",
       "      <td>ford</td>\n",
       "      <td>door</td>\n",
       "      <td>2014</td>\n",
       "      <td>clean vehicle</td>\n",
       "      <td>64146.0</td>\n",
       "      <td>blue</td>\n",
       "      <td>1ftfw1et4efc23745</td>\n",
       "      <td>167753855</td>\n",
       "      <td>virginia</td>\n",
       "      <td>usa</td>\n",
       "      <td>22 hours left</td>\n",
       "    </tr>\n",
       "    <tr>\n",
       "      <th>4</th>\n",
       "      <td>4</td>\n",
       "      <td>27700</td>\n",
       "      <td>chevrolet</td>\n",
       "      <td>1500</td>\n",
       "      <td>2018</td>\n",
       "      <td>clean vehicle</td>\n",
       "      <td>6654.0</td>\n",
       "      <td>red</td>\n",
       "      <td>3gcpcrec2jg473991</td>\n",
       "      <td>167763266</td>\n",
       "      <td>florida</td>\n",
       "      <td>usa</td>\n",
       "      <td>22 hours left</td>\n",
       "    </tr>\n",
       "  </tbody>\n",
       "</table>\n",
       "</div>"
      ],
      "text/plain": [
       "   Unnamed: 0  price      brand    model  year   title_status   mileage  \\\n",
       "0           0   6300     toyota  cruiser  2008  clean vehicle  274117.0   \n",
       "1           1   2899       ford       se  2011  clean vehicle  190552.0   \n",
       "2           2   5350      dodge      mpv  2018  clean vehicle   39590.0   \n",
       "3           3  25000       ford     door  2014  clean vehicle   64146.0   \n",
       "4           4  27700  chevrolet     1500  2018  clean vehicle    6654.0   \n",
       "\n",
       "    color                  vin        lot       state country      condition  \n",
       "0   black    jtezu11f88k007763  159348797  new jersey     usa   10 days left  \n",
       "1  silver    2fmdk3gc4bbb02217  166951262   tennessee     usa    6 days left  \n",
       "2  silver    3c4pdcgg5jt346413  167655728     georgia     usa    2 days left  \n",
       "3    blue    1ftfw1et4efc23745  167753855    virginia     usa  22 hours left  \n",
       "4     red    3gcpcrec2jg473991  167763266     florida     usa  22 hours left  "
      ]
     },
     "execution_count": 5,
     "metadata": {},
     "output_type": "execute_result"
    }
   ],
   "source": [
    "df.head()"
   ]
  },
  {
   "cell_type": "code",
   "execution_count": 6,
   "id": "designing-judge",
   "metadata": {},
   "outputs": [
    {
     "data": {
      "text/html": [
       "<div>\n",
       "<style scoped>\n",
       "    .dataframe tbody tr th:only-of-type {\n",
       "        vertical-align: middle;\n",
       "    }\n",
       "\n",
       "    .dataframe tbody tr th {\n",
       "        vertical-align: top;\n",
       "    }\n",
       "\n",
       "    .dataframe thead th {\n",
       "        text-align: right;\n",
       "    }\n",
       "</style>\n",
       "<table border=\"1\" class=\"dataframe\">\n",
       "  <thead>\n",
       "    <tr style=\"text-align: right;\">\n",
       "      <th></th>\n",
       "      <th>Unnamed: 0</th>\n",
       "      <th>price</th>\n",
       "      <th>brand</th>\n",
       "      <th>model</th>\n",
       "      <th>year</th>\n",
       "      <th>title_status</th>\n",
       "      <th>mileage</th>\n",
       "      <th>color</th>\n",
       "      <th>vin</th>\n",
       "      <th>lot</th>\n",
       "      <th>state</th>\n",
       "      <th>country</th>\n",
       "      <th>condition</th>\n",
       "    </tr>\n",
       "  </thead>\n",
       "  <tbody>\n",
       "    <tr>\n",
       "      <th>2494</th>\n",
       "      <td>2494</td>\n",
       "      <td>7800</td>\n",
       "      <td>nissan</td>\n",
       "      <td>versa</td>\n",
       "      <td>2019</td>\n",
       "      <td>clean vehicle</td>\n",
       "      <td>23609.0</td>\n",
       "      <td>red</td>\n",
       "      <td>3n1cn7ap9kl880319</td>\n",
       "      <td>167722715</td>\n",
       "      <td>california</td>\n",
       "      <td>usa</td>\n",
       "      <td>1 days left</td>\n",
       "    </tr>\n",
       "    <tr>\n",
       "      <th>2495</th>\n",
       "      <td>2495</td>\n",
       "      <td>9200</td>\n",
       "      <td>nissan</td>\n",
       "      <td>versa</td>\n",
       "      <td>2018</td>\n",
       "      <td>clean vehicle</td>\n",
       "      <td>34553.0</td>\n",
       "      <td>silver</td>\n",
       "      <td>3n1cn7ap5jl884088</td>\n",
       "      <td>167762225</td>\n",
       "      <td>florida</td>\n",
       "      <td>usa</td>\n",
       "      <td>21 hours left</td>\n",
       "    </tr>\n",
       "    <tr>\n",
       "      <th>2496</th>\n",
       "      <td>2496</td>\n",
       "      <td>9200</td>\n",
       "      <td>nissan</td>\n",
       "      <td>versa</td>\n",
       "      <td>2018</td>\n",
       "      <td>clean vehicle</td>\n",
       "      <td>31594.0</td>\n",
       "      <td>silver</td>\n",
       "      <td>3n1cn7ap9jl884191</td>\n",
       "      <td>167762226</td>\n",
       "      <td>florida</td>\n",
       "      <td>usa</td>\n",
       "      <td>21 hours left</td>\n",
       "    </tr>\n",
       "    <tr>\n",
       "      <th>2497</th>\n",
       "      <td>2497</td>\n",
       "      <td>9200</td>\n",
       "      <td>nissan</td>\n",
       "      <td>versa</td>\n",
       "      <td>2018</td>\n",
       "      <td>clean vehicle</td>\n",
       "      <td>32557.0</td>\n",
       "      <td>black</td>\n",
       "      <td>3n1cn7ap3jl883263</td>\n",
       "      <td>167762227</td>\n",
       "      <td>florida</td>\n",
       "      <td>usa</td>\n",
       "      <td>2 days left</td>\n",
       "    </tr>\n",
       "    <tr>\n",
       "      <th>2498</th>\n",
       "      <td>2498</td>\n",
       "      <td>9200</td>\n",
       "      <td>nissan</td>\n",
       "      <td>versa</td>\n",
       "      <td>2018</td>\n",
       "      <td>clean vehicle</td>\n",
       "      <td>31371.0</td>\n",
       "      <td>silver</td>\n",
       "      <td>3n1cn7ap4jl884311</td>\n",
       "      <td>167762228</td>\n",
       "      <td>florida</td>\n",
       "      <td>usa</td>\n",
       "      <td>21 hours left</td>\n",
       "    </tr>\n",
       "  </tbody>\n",
       "</table>\n",
       "</div>"
      ],
      "text/plain": [
       "      Unnamed: 0  price   brand  model  year   title_status  mileage   color  \\\n",
       "2494        2494   7800  nissan  versa  2019  clean vehicle  23609.0     red   \n",
       "2495        2495   9200  nissan  versa  2018  clean vehicle  34553.0  silver   \n",
       "2496        2496   9200  nissan  versa  2018  clean vehicle  31594.0  silver   \n",
       "2497        2497   9200  nissan  versa  2018  clean vehicle  32557.0   black   \n",
       "2498        2498   9200  nissan  versa  2018  clean vehicle  31371.0  silver   \n",
       "\n",
       "                      vin        lot       state country      condition  \n",
       "2494    3n1cn7ap9kl880319  167722715  california     usa    1 days left  \n",
       "2495    3n1cn7ap5jl884088  167762225     florida     usa  21 hours left  \n",
       "2496    3n1cn7ap9jl884191  167762226     florida     usa  21 hours left  \n",
       "2497    3n1cn7ap3jl883263  167762227     florida     usa    2 days left  \n",
       "2498    3n1cn7ap4jl884311  167762228     florida     usa  21 hours left  "
      ]
     },
     "execution_count": 6,
     "metadata": {},
     "output_type": "execute_result"
    }
   ],
   "source": [
    "df.tail()"
   ]
  },
  {
   "cell_type": "code",
   "execution_count": 7,
   "id": "combined-conclusion",
   "metadata": {},
   "outputs": [
    {
     "data": {
      "text/plain": [
       "0        6300\n",
       "1        2899\n",
       "2        5350\n",
       "3       25000\n",
       "4       27700\n",
       "        ...  \n",
       "2494     7800\n",
       "2495     9200\n",
       "2496     9200\n",
       "2497     9200\n",
       "2498     9200\n",
       "Name: price, Length: 2499, dtype: int64"
      ]
     },
     "execution_count": 7,
     "metadata": {},
     "output_type": "execute_result"
    }
   ],
   "source": [
    "df['price']"
   ]
  },
  {
   "cell_type": "code",
   "execution_count": 9,
   "id": "aging-marine",
   "metadata": {},
   "outputs": [
    {
     "data": {
      "text/plain": [
       "Unnamed: 0      0\n",
       "price           0\n",
       "brand           0\n",
       "model           0\n",
       "year            0\n",
       "title_status    0\n",
       "mileage         0\n",
       "color           0\n",
       "vin             0\n",
       "lot             0\n",
       "state           0\n",
       "country         0\n",
       "condition       0\n",
       "dtype: int64"
      ]
     },
     "execution_count": 9,
     "metadata": {},
     "output_type": "execute_result"
    }
   ],
   "source": [
    "df.isnull().sum()"
   ]
  },
  {
   "cell_type": "code",
   "execution_count": 13,
   "id": "rotary-royalty",
   "metadata": {},
   "outputs": [
    {
     "data": {
      "text/plain": [
       "28"
      ]
     },
     "execution_count": 13,
     "metadata": {},
     "output_type": "execute_result"
    }
   ],
   "source": [
    "len(df['brand'].unique())"
   ]
  },
  {
   "cell_type": "code",
   "execution_count": 18,
   "id": "critical-girlfriend",
   "metadata": {},
   "outputs": [
    {
     "data": {
      "text/plain": [
       "array([' usa', ' canada'], dtype=object)"
      ]
     },
     "execution_count": 18,
     "metadata": {},
     "output_type": "execute_result"
    }
   ],
   "source": [
    "df['country'].unique()"
   ]
  },
  {
   "cell_type": "code",
   "execution_count": 21,
   "id": "proper-blind",
   "metadata": {},
   "outputs": [
    {
     "data": {
      "text/plain": [
       "18767"
      ]
     },
     "execution_count": 21,
     "metadata": {},
     "output_type": "execute_result"
    }
   ],
   "source": [
    "df['price'].sum()//len(df['price'])"
   ]
  },
  {
   "cell_type": "code",
   "execution_count": 22,
   "id": "burning-affiliate",
   "metadata": {},
   "outputs": [
    {
     "data": {
      "text/plain": [
       "52298.0"
      ]
     },
     "execution_count": 22,
     "metadata": {},
     "output_type": "execute_result"
    }
   ],
   "source": [
    "df['mileage'].sum()//len(df['mileage'])"
   ]
  },
  {
   "cell_type": "code",
   "execution_count": 28,
   "id": "portuguese-spencer",
   "metadata": {},
   "outputs": [],
   "source": [
    "#del df['lot']\n",
    "#del df['condition']\n",
    "del df['Unnamed: 0']"
   ]
  },
  {
   "cell_type": "code",
   "execution_count": 29,
   "id": "incredible-recipient",
   "metadata": {},
   "outputs": [
    {
     "data": {
      "text/html": [
       "<div>\n",
       "<style scoped>\n",
       "    .dataframe tbody tr th:only-of-type {\n",
       "        vertical-align: middle;\n",
       "    }\n",
       "\n",
       "    .dataframe tbody tr th {\n",
       "        vertical-align: top;\n",
       "    }\n",
       "\n",
       "    .dataframe thead th {\n",
       "        text-align: right;\n",
       "    }\n",
       "</style>\n",
       "<table border=\"1\" class=\"dataframe\">\n",
       "  <thead>\n",
       "    <tr style=\"text-align: right;\">\n",
       "      <th></th>\n",
       "      <th>price</th>\n",
       "      <th>brand</th>\n",
       "      <th>model</th>\n",
       "      <th>year</th>\n",
       "      <th>title_status</th>\n",
       "      <th>mileage</th>\n",
       "      <th>color</th>\n",
       "      <th>state</th>\n",
       "      <th>country</th>\n",
       "    </tr>\n",
       "  </thead>\n",
       "  <tbody>\n",
       "    <tr>\n",
       "      <th>0</th>\n",
       "      <td>6300</td>\n",
       "      <td>toyota</td>\n",
       "      <td>cruiser</td>\n",
       "      <td>2008</td>\n",
       "      <td>clean vehicle</td>\n",
       "      <td>274117.0</td>\n",
       "      <td>black</td>\n",
       "      <td>new jersey</td>\n",
       "      <td>usa</td>\n",
       "    </tr>\n",
       "    <tr>\n",
       "      <th>1</th>\n",
       "      <td>2899</td>\n",
       "      <td>ford</td>\n",
       "      <td>se</td>\n",
       "      <td>2011</td>\n",
       "      <td>clean vehicle</td>\n",
       "      <td>190552.0</td>\n",
       "      <td>silver</td>\n",
       "      <td>tennessee</td>\n",
       "      <td>usa</td>\n",
       "    </tr>\n",
       "    <tr>\n",
       "      <th>2</th>\n",
       "      <td>5350</td>\n",
       "      <td>dodge</td>\n",
       "      <td>mpv</td>\n",
       "      <td>2018</td>\n",
       "      <td>clean vehicle</td>\n",
       "      <td>39590.0</td>\n",
       "      <td>silver</td>\n",
       "      <td>georgia</td>\n",
       "      <td>usa</td>\n",
       "    </tr>\n",
       "    <tr>\n",
       "      <th>3</th>\n",
       "      <td>25000</td>\n",
       "      <td>ford</td>\n",
       "      <td>door</td>\n",
       "      <td>2014</td>\n",
       "      <td>clean vehicle</td>\n",
       "      <td>64146.0</td>\n",
       "      <td>blue</td>\n",
       "      <td>virginia</td>\n",
       "      <td>usa</td>\n",
       "    </tr>\n",
       "    <tr>\n",
       "      <th>4</th>\n",
       "      <td>27700</td>\n",
       "      <td>chevrolet</td>\n",
       "      <td>1500</td>\n",
       "      <td>2018</td>\n",
       "      <td>clean vehicle</td>\n",
       "      <td>6654.0</td>\n",
       "      <td>red</td>\n",
       "      <td>florida</td>\n",
       "      <td>usa</td>\n",
       "    </tr>\n",
       "    <tr>\n",
       "      <th>...</th>\n",
       "      <td>...</td>\n",
       "      <td>...</td>\n",
       "      <td>...</td>\n",
       "      <td>...</td>\n",
       "      <td>...</td>\n",
       "      <td>...</td>\n",
       "      <td>...</td>\n",
       "      <td>...</td>\n",
       "      <td>...</td>\n",
       "    </tr>\n",
       "    <tr>\n",
       "      <th>2494</th>\n",
       "      <td>7800</td>\n",
       "      <td>nissan</td>\n",
       "      <td>versa</td>\n",
       "      <td>2019</td>\n",
       "      <td>clean vehicle</td>\n",
       "      <td>23609.0</td>\n",
       "      <td>red</td>\n",
       "      <td>california</td>\n",
       "      <td>usa</td>\n",
       "    </tr>\n",
       "    <tr>\n",
       "      <th>2495</th>\n",
       "      <td>9200</td>\n",
       "      <td>nissan</td>\n",
       "      <td>versa</td>\n",
       "      <td>2018</td>\n",
       "      <td>clean vehicle</td>\n",
       "      <td>34553.0</td>\n",
       "      <td>silver</td>\n",
       "      <td>florida</td>\n",
       "      <td>usa</td>\n",
       "    </tr>\n",
       "    <tr>\n",
       "      <th>2496</th>\n",
       "      <td>9200</td>\n",
       "      <td>nissan</td>\n",
       "      <td>versa</td>\n",
       "      <td>2018</td>\n",
       "      <td>clean vehicle</td>\n",
       "      <td>31594.0</td>\n",
       "      <td>silver</td>\n",
       "      <td>florida</td>\n",
       "      <td>usa</td>\n",
       "    </tr>\n",
       "    <tr>\n",
       "      <th>2497</th>\n",
       "      <td>9200</td>\n",
       "      <td>nissan</td>\n",
       "      <td>versa</td>\n",
       "      <td>2018</td>\n",
       "      <td>clean vehicle</td>\n",
       "      <td>32557.0</td>\n",
       "      <td>black</td>\n",
       "      <td>florida</td>\n",
       "      <td>usa</td>\n",
       "    </tr>\n",
       "    <tr>\n",
       "      <th>2498</th>\n",
       "      <td>9200</td>\n",
       "      <td>nissan</td>\n",
       "      <td>versa</td>\n",
       "      <td>2018</td>\n",
       "      <td>clean vehicle</td>\n",
       "      <td>31371.0</td>\n",
       "      <td>silver</td>\n",
       "      <td>florida</td>\n",
       "      <td>usa</td>\n",
       "    </tr>\n",
       "  </tbody>\n",
       "</table>\n",
       "<p>2499 rows × 9 columns</p>\n",
       "</div>"
      ],
      "text/plain": [
       "      price      brand    model  year   title_status   mileage   color  \\\n",
       "0      6300     toyota  cruiser  2008  clean vehicle  274117.0   black   \n",
       "1      2899       ford       se  2011  clean vehicle  190552.0  silver   \n",
       "2      5350      dodge      mpv  2018  clean vehicle   39590.0  silver   \n",
       "3     25000       ford     door  2014  clean vehicle   64146.0    blue   \n",
       "4     27700  chevrolet     1500  2018  clean vehicle    6654.0     red   \n",
       "...     ...        ...      ...   ...            ...       ...     ...   \n",
       "2494   7800     nissan    versa  2019  clean vehicle   23609.0     red   \n",
       "2495   9200     nissan    versa  2018  clean vehicle   34553.0  silver   \n",
       "2496   9200     nissan    versa  2018  clean vehicle   31594.0  silver   \n",
       "2497   9200     nissan    versa  2018  clean vehicle   32557.0   black   \n",
       "2498   9200     nissan    versa  2018  clean vehicle   31371.0  silver   \n",
       "\n",
       "           state country  \n",
       "0     new jersey     usa  \n",
       "1      tennessee     usa  \n",
       "2        georgia     usa  \n",
       "3       virginia     usa  \n",
       "4        florida     usa  \n",
       "...          ...     ...  \n",
       "2494  california     usa  \n",
       "2495     florida     usa  \n",
       "2496     florida     usa  \n",
       "2497     florida     usa  \n",
       "2498     florida     usa  \n",
       "\n",
       "[2499 rows x 9 columns]"
      ]
     },
     "execution_count": 29,
     "metadata": {},
     "output_type": "execute_result"
    }
   ],
   "source": [
    "df"
   ]
  },
  {
   "cell_type": "code",
   "execution_count": 30,
   "id": "solid-clark",
   "metadata": {},
   "outputs": [
    {
     "data": {
      "text/plain": [
       "84900"
      ]
     },
     "execution_count": 30,
     "metadata": {},
     "output_type": "execute_result"
    }
   ],
   "source": [
    "df['price'].max()"
   ]
  },
  {
   "cell_type": "code",
   "execution_count": 31,
   "id": "incident-registrar",
   "metadata": {},
   "outputs": [
    {
     "data": {
      "text/plain": [
       "0"
      ]
     },
     "execution_count": 31,
     "metadata": {},
     "output_type": "execute_result"
    }
   ],
   "source": [
    "df['price'].min()"
   ]
  },
  {
   "cell_type": "code",
   "execution_count": 32,
   "id": "supposed-acoustic",
   "metadata": {},
   "outputs": [
    {
     "data": {
      "text/plain": [
       "1017936.0"
      ]
     },
     "execution_count": 32,
     "metadata": {},
     "output_type": "execute_result"
    }
   ],
   "source": [
    "df['mileage'].max()"
   ]
  },
  {
   "cell_type": "code",
   "execution_count": 33,
   "id": "dependent-merit",
   "metadata": {},
   "outputs": [
    {
     "data": {
      "text/plain": [
       "0.0"
      ]
     },
     "execution_count": 33,
     "metadata": {},
     "output_type": "execute_result"
    }
   ],
   "source": [
    "df['mileage'].min()"
   ]
  },
  {
   "cell_type": "code",
   "execution_count": 34,
   "id": "involved-wages",
   "metadata": {},
   "outputs": [
    {
     "data": {
      "text/plain": [
       "0        True\n",
       "1       False\n",
       "2       False\n",
       "3       False\n",
       "4       False\n",
       "        ...  \n",
       "2494    False\n",
       "2495    False\n",
       "2496    False\n",
       "2497    False\n",
       "2498    False\n",
       "Name: brand, Length: 2499, dtype: bool"
      ]
     },
     "execution_count": 34,
     "metadata": {},
     "output_type": "execute_result"
    }
   ],
   "source": [
    "df['brand'] == 'toyota'"
   ]
  },
  {
   "cell_type": "code",
   "execution_count": 36,
   "id": "atlantic-republican",
   "metadata": {},
   "outputs": [
    {
     "data": {
      "text/html": [
       "<div>\n",
       "<style scoped>\n",
       "    .dataframe tbody tr th:only-of-type {\n",
       "        vertical-align: middle;\n",
       "    }\n",
       "\n",
       "    .dataframe tbody tr th {\n",
       "        vertical-align: top;\n",
       "    }\n",
       "\n",
       "    .dataframe thead th {\n",
       "        text-align: right;\n",
       "    }\n",
       "</style>\n",
       "<table border=\"1\" class=\"dataframe\">\n",
       "  <thead>\n",
       "    <tr style=\"text-align: right;\">\n",
       "      <th></th>\n",
       "      <th>price</th>\n",
       "      <th>brand</th>\n",
       "      <th>model</th>\n",
       "      <th>year</th>\n",
       "      <th>title_status</th>\n",
       "      <th>mileage</th>\n",
       "      <th>color</th>\n",
       "      <th>state</th>\n",
       "      <th>country</th>\n",
       "    </tr>\n",
       "  </thead>\n",
       "  <tbody>\n",
       "    <tr>\n",
       "      <th>2</th>\n",
       "      <td>5350</td>\n",
       "      <td>dodge</td>\n",
       "      <td>mpv</td>\n",
       "      <td>2018</td>\n",
       "      <td>clean vehicle</td>\n",
       "      <td>39590.0</td>\n",
       "      <td>silver</td>\n",
       "      <td>georgia</td>\n",
       "      <td>usa</td>\n",
       "    </tr>\n",
       "    <tr>\n",
       "      <th>5</th>\n",
       "      <td>5700</td>\n",
       "      <td>dodge</td>\n",
       "      <td>mpv</td>\n",
       "      <td>2018</td>\n",
       "      <td>clean vehicle</td>\n",
       "      <td>45561.0</td>\n",
       "      <td>white</td>\n",
       "      <td>texas</td>\n",
       "      <td>usa</td>\n",
       "    </tr>\n",
       "    <tr>\n",
       "      <th>10</th>\n",
       "      <td>10400</td>\n",
       "      <td>dodge</td>\n",
       "      <td>coupe</td>\n",
       "      <td>2009</td>\n",
       "      <td>clean vehicle</td>\n",
       "      <td>107856.0</td>\n",
       "      <td>orange</td>\n",
       "      <td>georgia</td>\n",
       "      <td>usa</td>\n",
       "    </tr>\n",
       "    <tr>\n",
       "      <th>48</th>\n",
       "      <td>5580</td>\n",
       "      <td>dodge</td>\n",
       "      <td>mpv</td>\n",
       "      <td>2017</td>\n",
       "      <td>clean vehicle</td>\n",
       "      <td>46829.0</td>\n",
       "      <td>gray</td>\n",
       "      <td>texas</td>\n",
       "      <td>usa</td>\n",
       "    </tr>\n",
       "    <tr>\n",
       "      <th>94</th>\n",
       "      <td>39800</td>\n",
       "      <td>dodge</td>\n",
       "      <td>challenger</td>\n",
       "      <td>2015</td>\n",
       "      <td>clean vehicle</td>\n",
       "      <td>3641.0</td>\n",
       "      <td>white</td>\n",
       "      <td>pennsylvania</td>\n",
       "      <td>usa</td>\n",
       "    </tr>\n",
       "    <tr>\n",
       "      <th>...</th>\n",
       "      <td>...</td>\n",
       "      <td>...</td>\n",
       "      <td>...</td>\n",
       "      <td>...</td>\n",
       "      <td>...</td>\n",
       "      <td>...</td>\n",
       "      <td>...</td>\n",
       "      <td>...</td>\n",
       "      <td>...</td>\n",
       "    </tr>\n",
       "    <tr>\n",
       "      <th>1193</th>\n",
       "      <td>23900</td>\n",
       "      <td>dodge</td>\n",
       "      <td>charger</td>\n",
       "      <td>2019</td>\n",
       "      <td>clean vehicle</td>\n",
       "      <td>35248.0</td>\n",
       "      <td>white</td>\n",
       "      <td>georgia</td>\n",
       "      <td>usa</td>\n",
       "    </tr>\n",
       "    <tr>\n",
       "      <th>1194</th>\n",
       "      <td>14500</td>\n",
       "      <td>dodge</td>\n",
       "      <td>caravan</td>\n",
       "      <td>2018</td>\n",
       "      <td>clean vehicle</td>\n",
       "      <td>40417.0</td>\n",
       "      <td>no_color</td>\n",
       "      <td>florida</td>\n",
       "      <td>usa</td>\n",
       "    </tr>\n",
       "    <tr>\n",
       "      <th>1195</th>\n",
       "      <td>23000</td>\n",
       "      <td>dodge</td>\n",
       "      <td>durango</td>\n",
       "      <td>2017</td>\n",
       "      <td>clean vehicle</td>\n",
       "      <td>30309.0</td>\n",
       "      <td>gray</td>\n",
       "      <td>virginia</td>\n",
       "      <td>usa</td>\n",
       "    </tr>\n",
       "    <tr>\n",
       "      <th>1196</th>\n",
       "      <td>15000</td>\n",
       "      <td>dodge</td>\n",
       "      <td>journey</td>\n",
       "      <td>2018</td>\n",
       "      <td>clean vehicle</td>\n",
       "      <td>42303.0</td>\n",
       "      <td>red</td>\n",
       "      <td>north carolina</td>\n",
       "      <td>usa</td>\n",
       "    </tr>\n",
       "    <tr>\n",
       "      <th>1197</th>\n",
       "      <td>15000</td>\n",
       "      <td>dodge</td>\n",
       "      <td>journey</td>\n",
       "      <td>2018</td>\n",
       "      <td>clean vehicle</td>\n",
       "      <td>35326.0</td>\n",
       "      <td>white</td>\n",
       "      <td>north carolina</td>\n",
       "      <td>usa</td>\n",
       "    </tr>\n",
       "  </tbody>\n",
       "</table>\n",
       "<p>432 rows × 9 columns</p>\n",
       "</div>"
      ],
      "text/plain": [
       "      price  brand       model  year   title_status   mileage     color  \\\n",
       "2      5350  dodge         mpv  2018  clean vehicle   39590.0    silver   \n",
       "5      5700  dodge         mpv  2018  clean vehicle   45561.0     white   \n",
       "10    10400  dodge       coupe  2009  clean vehicle  107856.0    orange   \n",
       "48     5580  dodge         mpv  2017  clean vehicle   46829.0      gray   \n",
       "94    39800  dodge  challenger  2015  clean vehicle    3641.0     white   \n",
       "...     ...    ...         ...   ...            ...       ...       ...   \n",
       "1193  23900  dodge     charger  2019  clean vehicle   35248.0     white   \n",
       "1194  14500  dodge     caravan  2018  clean vehicle   40417.0  no_color   \n",
       "1195  23000  dodge     durango  2017  clean vehicle   30309.0      gray   \n",
       "1196  15000  dodge     journey  2018  clean vehicle   42303.0       red   \n",
       "1197  15000  dodge     journey  2018  clean vehicle   35326.0     white   \n",
       "\n",
       "               state country  \n",
       "2            georgia     usa  \n",
       "5              texas     usa  \n",
       "10           georgia     usa  \n",
       "48             texas     usa  \n",
       "94      pennsylvania     usa  \n",
       "...              ...     ...  \n",
       "1193         georgia     usa  \n",
       "1194         florida     usa  \n",
       "1195        virginia     usa  \n",
       "1196  north carolina     usa  \n",
       "1197  north carolina     usa  \n",
       "\n",
       "[432 rows x 9 columns]"
      ]
     },
     "execution_count": 36,
     "metadata": {},
     "output_type": "execute_result"
    }
   ],
   "source": [
    "df[df['brand'] == 'dodge']"
   ]
  },
  {
   "cell_type": "code",
   "execution_count": 38,
   "id": "accredited-persian",
   "metadata": {},
   "outputs": [
    {
     "name": "stdout",
     "output_type": "stream",
     "text": [
      "toyota : 1\n",
      "ford : 1235\n",
      "dodge : 432\n",
      "chevrolet : 297\n",
      "gmc : 42\n",
      "chrysler : 18\n",
      "kia : 13\n",
      "buick : 13\n",
      "infiniti : 12\n",
      "mercedes-benz : 10\n",
      "jeep : 30\n",
      "bmw : 17\n",
      "cadillac : 10\n",
      "hyundai : 15\n",
      "mazda : 2\n",
      "honda : 12\n",
      "heartland : 5\n",
      "jaguar : 1\n",
      "acura : 3\n",
      "harley-davidson : 1\n",
      "audi : 4\n",
      "lincoln : 2\n",
      "lexus : 2\n",
      "nissan : 312\n",
      "land : 4\n",
      "maserati : 1\n",
      "peterbilt : 4\n",
      "ram : 1\n"
     ]
    }
   ],
   "source": [
    "for brand in df['brand'].unique():\n",
    "    print(brand, \":\", len(df[df['brand']== brand]))"
   ]
  },
  {
   "cell_type": "code",
   "execution_count": 39,
   "id": "embedded-competition",
   "metadata": {},
   "outputs": [
    {
     "name": "stdout",
     "output_type": "stream",
     "text": [
      "cruiser : 1\n",
      "se : 1\n",
      "mpv : 87\n",
      "door : 651\n",
      "1500 : 39\n",
      "pk : 5\n",
      "malibu : 12\n",
      "coupe : 6\n",
      "wagon : 30\n",
      "forte : 2\n",
      "encore : 3\n",
      "sorento : 5\n",
      "doors : 148\n",
      "chassis : 4\n",
      "q70 : 1\n",
      "camaro : 6\n",
      "convertible : 1\n",
      "vans : 2\n",
      "srw : 38\n",
      "compass : 6\n",
      "enclave : 2\n",
      "300 : 6\n",
      "cherokee : 3\n",
      "pacifica : 3\n",
      "x3 : 2\n",
      "equinox : 18\n",
      "challenger : 44\n",
      "m : 1\n",
      "colorado : 12\n",
      "focus : 9\n",
      "durango : 64\n",
      "escape : 39\n",
      "charger : 42\n",
      "explorer : 39\n",
      "f-150 : 219\n",
      "3500 : 4\n",
      "caravan : 102\n",
      "van : 46\n",
      "dart : 1\n",
      "2500 : 8\n",
      "esv : 1\n",
      "cutaway : 12\n",
      "el : 3\n",
      "edge : 34\n",
      "series : 8\n",
      "flex : 33\n",
      "srx : 1\n",
      "cab : 8\n",
      "pickup : 15\n",
      "vehicl : 1\n",
      "trax : 8\n",
      "tahoe : 9\n",
      "suburban : 16\n",
      "cargo : 2\n",
      "drw : 10\n",
      "fiesta : 14\n",
      "impala : 12\n",
      "soul : 1\n",
      "elantra : 1\n",
      "pioneer : 1\n",
      "trail : 1\n",
      "traverse : 6\n",
      "country : 2\n",
      "sundance : 1\n",
      "road/street : 1\n",
      "nautilus : 1\n",
      "gx : 1\n",
      "q5 : 1\n",
      "gle : 2\n",
      "sportage : 1\n",
      "5 : 1\n",
      "sport : 40\n",
      "discovery : 1\n",
      "acadia : 1\n",
      "ghibli : 1\n",
      "glc : 1\n",
      "e-class : 1\n",
      "truck : 4\n",
      "utility : 1\n",
      "limited : 1\n",
      "sl-class : 1\n",
      "cx-3 : 1\n",
      "2500hd : 1\n",
      "sonic : 2\n",
      "corvette : 4\n",
      "mdx : 1\n",
      "xt5 : 1\n",
      "fusion : 65\n",
      "mustang : 29\n",
      "passenger : 3\n",
      "volt : 2\n",
      "spark : 1\n",
      "cruze : 2\n",
      "ld : 3\n",
      "journey : 61\n",
      "transit : 41\n",
      "ranger : 6\n",
      "taurus : 10\n",
      "max : 41\n",
      "energi : 1\n",
      "expedition : 28\n",
      "bus : 2\n",
      "ecosport : 7\n",
      "f-750 : 1\n",
      "d : 2\n",
      "dr : 1\n",
      "hybrid : 5\n",
      "suv : 1\n",
      "connect : 1\n",
      "f-650 : 3\n",
      "sentra : 28\n",
      "altima : 21\n",
      "frontier : 14\n",
      "rogue : 54\n",
      "maxima : 3\n",
      "versa : 34\n",
      "note : 2\n",
      "armada : 4\n",
      "pathfinder : 22\n",
      "titan : 5\n",
      "sedan : 4\n",
      "juke : 1\n",
      "murano : 5\n",
      "xterra : 1\n",
      "kicks : 1\n",
      "xd : 1\n",
      "nvp : 1\n"
     ]
    }
   ],
   "source": [
    "for model in df['model'].unique():\n",
    "    print(model, \":\", len(df[df['model']== model]))"
   ]
  },
  {
   "cell_type": "code",
   "execution_count": 40,
   "id": "center-occupation",
   "metadata": {},
   "outputs": [
    {
     "name": "stdout",
     "output_type": "stream",
     "text": [
      "black : 516\n",
      "silver : 300\n",
      "blue : 151\n",
      "red : 192\n",
      "white : 707\n",
      "gray : 395\n",
      "orange : 20\n",
      "brown : 15\n",
      "no_color : 61\n",
      "gold : 19\n",
      "charcoal : 18\n",
      "turquoise : 1\n",
      "beige : 5\n",
      "green : 24\n",
      "dark blue : 1\n",
      "maroon : 1\n",
      "phantom black : 1\n",
      "yellow : 9\n",
      "color: : 5\n",
      "light blue : 1\n",
      "toreador red : 1\n",
      "bright white clearcoat : 2\n",
      "billet silver metallic clearcoat : 3\n",
      "black clearcoat : 2\n",
      "jazz blue pearlcoat : 1\n",
      "purple : 1\n",
      "ruby red metallic tinted clearcoat : 2\n",
      "triple yellow tri-coat : 3\n",
      "competition orange : 1\n",
      "off-white : 2\n",
      "shadow black : 5\n",
      "magnetic metallic : 6\n",
      "ingot silver metallic : 4\n",
      "ruby red : 1\n",
      "royal crimson metallic tinted clearcoat : 1\n",
      "kona blue metallic : 1\n",
      "oxford white : 4\n",
      "lightning blue : 1\n",
      "ingot silver : 1\n",
      "white platinum tri-coat metallic : 2\n",
      "guard : 1\n",
      "tuxedo black metallic : 2\n",
      "tan : 1\n",
      "burgundy : 1\n",
      "super black : 3\n",
      "cayenne red : 2\n",
      "morningsky blue : 1\n",
      "pearl white : 1\n",
      "glacier white : 1\n"
     ]
    }
   ],
   "source": [
    "for color in df['color'].unique():\n",
    "    print(color, \":\", len(df[df['color']== color]))"
   ]
  },
  {
   "cell_type": "code",
   "execution_count": 41,
   "id": "final-suggestion",
   "metadata": {},
   "outputs": [
    {
     "name": "stdout",
     "output_type": "stream",
     "text": [
      "new jersey : 87\n",
      "tennessee : 26\n",
      "georgia : 51\n",
      "virginia : 90\n",
      "florida : 246\n",
      "texas : 214\n",
      "california : 190\n",
      "north carolina : 146\n",
      "ohio : 31\n",
      "new york : 58\n",
      "pennsylvania : 299\n",
      "south carolina : 64\n",
      "michigan : 169\n",
      "washington : 14\n",
      "arizona : 33\n",
      "utah : 10\n",
      "kentucky : 9\n",
      "massachusetts : 27\n",
      "nebraska : 4\n",
      "ontario : 7\n",
      "missouri : 46\n",
      "minnesota : 119\n",
      "oklahoma : 71\n",
      "connecticut : 25\n",
      "indiana : 14\n",
      "arkansas : 12\n",
      "kansas : 4\n",
      "wyoming : 1\n",
      "colorado : 21\n",
      "illinois : 113\n",
      "wisconsin : 94\n",
      "mississippi : 24\n",
      "maryland : 4\n",
      "oregon : 27\n",
      "west virginia : 21\n",
      "nevada : 85\n",
      "rhode island : 2\n",
      "louisiana : 11\n",
      "alabama : 17\n",
      "new mexico : 4\n",
      "idaho : 2\n",
      "new hampshire : 4\n",
      "montana : 1\n",
      "vermont : 2\n"
     ]
    }
   ],
   "source": [
    "for state in df['state'].unique():\n",
    "    print(state, \":\", len(df[df['state']== state]))"
   ]
  },
  {
   "cell_type": "code",
   "execution_count": 42,
   "id": "stupid-policy",
   "metadata": {},
   "outputs": [
    {
     "name": "stdout",
     "output_type": "stream",
     "text": [
      "2008 : 18\n",
      "2011 : 23\n",
      "2018 : 395\n",
      "2014 : 104\n",
      "2010 : 13\n",
      "2017 : 377\n",
      "2009 : 11\n",
      "2013 : 86\n",
      "2015 : 196\n",
      "2020 : 48\n",
      "2016 : 203\n",
      "1973 : 1\n",
      "2003 : 9\n",
      "2019 : 892\n",
      "2002 : 2\n",
      "2000 : 4\n",
      "2001 : 5\n",
      "2005 : 6\n",
      "2012 : 72\n",
      "2006 : 8\n",
      "2007 : 6\n",
      "1998 : 4\n",
      "2004 : 6\n",
      "1994 : 2\n",
      "1997 : 2\n",
      "1996 : 2\n",
      "1999 : 1\n",
      "1984 : 1\n",
      "1995 : 1\n",
      "1993 : 1\n"
     ]
    }
   ],
   "source": [
    "for year in df['year'].unique():\n",
    "    print(year, \":\", len(df[df['year']== year]))"
   ]
  },
  {
   "cell_type": "markdown",
   "id": "stuck-dylan",
   "metadata": {},
   "source": [
    "## TOP 5 BRANDS OF CAR"
   ]
  },
  {
   "cell_type": "code",
   "execution_count": 69,
   "id": "individual-value",
   "metadata": {},
   "outputs": [
    {
     "data": {
      "text/plain": [
       "<AxesSubplot:xlabel='brand'>"
      ]
     },
     "execution_count": 69,
     "metadata": {},
     "output_type": "execute_result"
    },
    {
     "data": {
      "image/png": "[encoded data removed]",
      "text/plain": [
       "<Figure size 360x360 with 1 Axes>"
      ]
     },
     "metadata": {
      "needs_background": "light"
     },
     "output_type": "display_data"
    }
   ],
   "source": [
    "data = []\n",
    "\n",
    "for brand in df['brand'].unique():\n",
    "    data.append([brand , len(df[df['brand']  == brand])])\n",
    "\n",
    "pd.DataFrame(data,columns = ['brand','freq']).sort_values(by='freq', ascending=False).head().plot(x = 'brand', y = 'freq', kind = 'bar', figsize = (5,5))"
   ]
  },
  {
   "cell_type": "markdown",
   "id": "administrative-flavor",
   "metadata": {},
   "source": [
    "## CAR BRAND BASED ON FREQUENCY OF CAR"
   ]
  },
  {
   "cell_type": "code",
   "execution_count": 70,
   "id": "detected-graphics",
   "metadata": {},
   "outputs": [
    {
     "data": {
      "text/plain": [
       "<AxesSubplot:xlabel='brand'>"
      ]
     },
     "execution_count": 70,
     "metadata": {},
     "output_type": "execute_result"
    },
    {
     "data": {
      "image/png": "[encoded data removed]",
      "text/plain": [
       "<Figure size 720x360 with 1 Axes>"
      ]
     },
     "metadata": {
      "needs_background": "light"
     },
     "output_type": "display_data"
    }
   ],
   "source": [
    "data = []\n",
    "\n",
    "for brand in df['brand'].unique():\n",
    "    data.append([brand , len(df[df['brand']  == brand])])\n",
    "\n",
    "pd.DataFrame(data,columns = ['brand','freq']).sort_values(by='freq', ascending=False).plot(x = 'brand', y = 'freq', kind = 'bar', figsize = (10,5))"
   ]
  },
  {
   "cell_type": "markdown",
   "id": "standing-cause",
   "metadata": {},
   "source": [
    "## CAR INDUSTRY TREND"
   ]
  },
  {
   "cell_type": "code",
   "execution_count": 71,
   "id": "unnecessary-dominant",
   "metadata": {},
   "outputs": [
    {
     "data": {
      "text/plain": [
       "<AxesSubplot:xlabel='year'>"
      ]
     },
     "execution_count": 71,
     "metadata": {},
     "output_type": "execute_result"
    },
    {
     "data": {
      "image/png": "[encoded data removed]",
      "text/plain": [
       "<Figure size 360x360 with 1 Axes>"
      ]
     },
     "metadata": {
      "needs_background": "light"
     },
     "output_type": "display_data"
    }
   ],
   "source": [
    "data = []\n",
    "\n",
    "for year in df['year'].unique():\n",
    "    data.append([year , len(df[df['year']  == year])])\n",
    "\n",
    "pd.DataFrame(data,columns = ['year','freq']).sort_values(by='year', ascending = True).plot(x = 'year', y = 'freq', kind = 'line', figsize = (5,5))"
   ]
  },
  {
   "cell_type": "markdown",
   "id": "hydraulic-despite",
   "metadata": {},
   "source": [
    "## POPULAR CAR COLORS "
   ]
  },
  {
   "cell_type": "code",
   "execution_count": 72,
   "id": "reduced-digest",
   "metadata": {},
   "outputs": [
    {
     "data": {
      "text/plain": [
       "<AxesSubplot:xlabel='color'>"
      ]
     },
     "execution_count": 72,
     "metadata": {},
     "output_type": "execute_result"
    },
    {
     "data": {
      "image/png": "[encoded data removed]",
      "text/plain": [
       "<Figure size 1440x360 with 1 Axes>"
      ]
     },
     "metadata": {
      "needs_background": "light"
     },
     "output_type": "display_data"
    }
   ],
   "source": [
    "data = []\n",
    "\n",
    "for color in df['color'].unique():\n",
    "    data.append([color , len(df[df['color']  == color])])\n",
    "\n",
    "pd.DataFrame(data,columns = ['color','freq']).sort_values(by='freq', ascending=False).plot(x = 'color', y = 'freq', kind = 'bar', figsize = (20,5))"
   ]
  },
  {
   "cell_type": "markdown",
   "id": "metropolitan-hartford",
   "metadata": {},
   "source": [
    "## CAR BRAND HAVING MAXIMUM AVERAGE PRICE "
   ]
  },
  {
   "cell_type": "code",
   "execution_count": 73,
   "id": "pharmaceutical-jacob",
   "metadata": {},
   "outputs": [
    {
     "data": {
      "text/plain": [
       "<AxesSubplot:xlabel='brand'>"
      ]
     },
     "execution_count": 73,
     "metadata": {},
     "output_type": "execute_result"
    },
    {
     "data": {
      "image/png": "[encoded data removed]",
      "text/plain": [
       "<Figure size 432x288 with 1 Axes>"
      ]
     },
     "metadata": {
      "needs_background": "light"
     },
     "output_type": "display_data"
    }
   ],
   "source": [
    "df.groupby('brand').mean()['price'].sort_values(ascending = False).plot.bar()"
   ]
  },
  {
   "cell_type": "markdown",
   "id": "conceptual-signal",
   "metadata": {},
   "source": [
    "## STATE HAVING MOST EXPENSIVE CAR"
   ]
  },
  {
   "cell_type": "code",
   "execution_count": 66,
   "id": "warming-feature",
   "metadata": {},
   "outputs": [],
   "source": [
    "import matplotlib.pyplot as plt"
   ]
  },
  {
   "cell_type": "code",
   "execution_count": 67,
   "id": "lesser-exhibit",
   "metadata": {},
   "outputs": [
    {
     "data": {
      "image/png": "[encoded data removed]",
      "text/plain": [
       "<Figure size 1080x360 with 1 Axes>"
      ]
     },
     "metadata": {
      "needs_background": "light"
     },
     "output_type": "display_data"
    }
   ],
   "source": [
    "plt.figure(figsize = (30,10))\n",
    "df.groupby('state').mean()['price'].sort_values(ascending = False).plot.bar(figsize = (15,5))\n",
    "plt.show()"
   ]
  }
 ],
 "metadata": {
  "kernelspec": {
   "display_name": "Python 3",
   "language": "python",
   "name": "python3"
  },
  "language_info": {
   "codemirror_mode": {
    "name": "ipython",
    "version": 3
   },
   "file_extension": ".py",
   "mimetype": "text/x-python",
   "name": "python",
   "nbconvert_exporter": "python",
   "pygments_lexer": "ipython3",
   "version": "3.8.6rc1"
  }
 },
 "nbformat": 4,
 "nbformat_minor": 5
}
